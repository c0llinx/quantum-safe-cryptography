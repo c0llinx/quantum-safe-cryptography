{
 "cells": [
  {
   "cell_type": "code",
   "execution_count": 59,
   "metadata": {},
   "outputs": [
    {
     "name": "stdout",
     "output_type": "stream",
     "text": [
      "The two messages differ by 1 characters\n"
     ]
    }
   ],
   "source": [
    "# Begin by importing some necessary modules\n",
    "from cryptography.hazmat.backends import default_backend\n",
    "from cryptography.hazmat.primitives import hashes\n",
    "\n",
    "#Helper function that returns the number of characters different in two strings\n",
    "def char_diff(str1, str2):\n",
    "    return sum ( str1[i] != str2[i] for i in range(len(str1)) )\n",
    "\n",
    "# Messages to be hashed\n",
    "message_1 = b\"Buy 10000 shares of WXYZ stock now!\"\n",
    "message_2 = b\"Buy 10000 shares of VXYZ stock now!\"\n",
    "\n",
    "print(f\"The two messages differ by { char_diff(message_1, message_2)} characters\")"
   ]
  },
  {
   "cell_type": "code",
   "execution_count": 60,
   "metadata": {},
   "outputs": [
    {
     "name": "stdout",
     "output_type": "stream",
     "text": [
      "digest-1: 6e0e6261b7131bd80ffdb2a4d42f9d042636350e45e184b92fcbcc9646eaf1e7\n",
      "digest-2: 6b0abb368c3a1730f935b68105e3f3ae7fd43d7e786d3ed3503dbb45c74ada46\n",
      "The two digests differ by 57 characters\n"
     ]
    }
   ],
   "source": [
    "# Create new SHA-256 hash objects, one for each message\n",
    "chf_1 = hashes.Hash(hashes.SHA256(), backend=default_backend())\n",
    "chf_2 = hashes.Hash(hashes.SHA256(), backend=default_backend())\n",
    "\n",
    "# Update each hash object with the bytes of the corresponding message\n",
    "chf_1.update(message_1)\n",
    "chf_2.update(message_2)\n",
    "\n",
    "# Finalize the hash process and obtain the digests\n",
    "digest_1 = chf_1.finalize()\n",
    "digest_2 = chf_2.finalize()\n",
    "\n",
    "#Convert the resulting hash to hexadecimal strings for convenient printing\n",
    "digest_1_str = digest_1.hex()\n",
    "digest_2_str = digest_2.hex()\n",
    "\n",
    "#Print out the digests as strings \n",
    "print(f\"digest-1: {digest_1_str}\")\n",
    "print(f\"digest-2: {digest_2_str}\")\n",
    "\n",
    "print(f\"The two digests differ by { char_diff(digest_1_str, digest_2_str)} characters\")"
   ]
  },
  {
   "cell_type": "code",
   "execution_count": 61,
   "metadata": {},
   "outputs": [
    {
     "name": "stdout",
     "output_type": "stream",
     "text": [
      "Requirement already satisfied: secretpy in /opt/anaconda3/lib/python3.12/site-packages (0.12.0)\n",
      "Note: you may need to restart the kernel to use updated packages.\n",
      "\n",
      "Given plaintext: this is a strict top secret message for intended recipients only\n"
     ]
    }
   ],
   "source": [
    "# Install the library if needed\n",
    "%pip install secretpy\n",
    "\n",
    "# import the required crypto functions which will be demonstrated later\n",
    "from secretpy import Caesar\n",
    "from cryptography.hazmat.primitives.ciphers import Cipher, algorithms, modes\n",
    "from functools import reduce\n",
    "import numpy as np\n",
    "\n",
    "# Set the plaintext we want to encrypt\n",
    "plaintext=u\"this is a strict top secret message for intended recipients only\"\n",
    "print(f\"\\nGiven plaintext: {plaintext}\")"
   ]
  },
  {
   "cell_type": "code",
   "execution_count": 62,
   "metadata": {},
   "outputs": [
    {
     "name": "stdout",
     "output_type": "stream",
     "text": [
      "Caesar shift secret key: 5\n",
      "alphabet: ('a', 'b', 'c', 'd', 'e', 'f', 'g', 'h', 'i', 'j', 'k', 'l', 'm', 'n', 'o', 'p', 'q', 'r', 's', 't', 'u', 'v', 'w', 'x', 'y', 'z', ' ')\n"
     ]
    }
   ],
   "source": [
    "\n",
    "# initialize the required python object for doing Caesar shift encryption\n",
    "caesar_cipher = Caesar()\n",
    "\n",
    "# Define the shift, ie the key\n",
    "caesar_key = 5 \n",
    "print(f\"Caesar shift secret key: {caesar_key}\")\n",
    "\n",
    "# Define the alphabet\n",
    "alphabet=('a', 'b', 'c', 'd', 'e', 'f', 'g', 'h', 'i', 'j', 'k', 'l', 'm', 'n', 'o', 'p', 'q', 'r', 's', 't', 'u', 'v', 'w', 'x', 'y', 'z', ' ')\n",
    "print(f\"alphabet: {alphabet}\")"
   ]
  },
  {
   "cell_type": "code",
   "execution_count": 63,
   "metadata": {},
   "outputs": [
    {
     "name": "stdout",
     "output_type": "stream",
     "text": [
      "Encrypted caeser shift ciphertext: ymnxenxefexywnhyeytuexjhwjyerjxxfljektwensyjsijiewjhnunjsyxetsqc\n"
     ]
    }
   ],
   "source": [
    "\n",
    "caeser_ciphertext = caesar_cipher.encrypt(plaintext, caesar_key, alphabet)\n",
    "print(f\"Encrypted caeser shift ciphertext: {caeser_ciphertext}\")"
   ]
  },
  {
   "cell_type": "code",
   "execution_count": 64,
   "metadata": {},
   "outputs": [
    {
     "name": "stdout",
     "output_type": "stream",
     "text": [
      "Decrypted caeser shift plaintext: this is a strict top secret message for intended recipients only\n",
      "\n"
     ]
    }
   ],
   "source": [
    "caeser_plaintext = caesar_cipher.decrypt(caeser_ciphertext, caesar_key, alphabet)\n",
    "print(f\"Decrypted caeser shift plaintext: {caeser_plaintext}\\n\")"
   ]
  },
  {
   "cell_type": "code",
   "execution_count": 65,
   "metadata": {},
   "outputs": [
    {
     "name": "stdout",
     "output_type": "stream",
     "text": [
      "AES secret key: kmvalqfrkiaatzkp\n"
     ]
    }
   ],
   "source": [
    "# lamba defines an inline function in this case that takes two values a,b with the resulting expression of a+b\n",
    "# reduce uses a two-argument function(above), and applies this to all the entries in the list (random alphabet characters) cumulatively\n",
    "aes_key = reduce(lambda a, b: a + b, [np.random.choice(alphabet) for i in range(16)])\n",
    "\n",
    "print(f'AES secret key: {aes_key}')"
   ]
  },
  {
   "cell_type": "code",
   "execution_count": 66,
   "metadata": {},
   "outputs": [
    {
     "name": "stdout",
     "output_type": "stream",
     "text": [
      "AES initialization vector: gwwo ofukcqf mgk\n"
     ]
    }
   ],
   "source": [
    "aes_initialization_vector = reduce(lambda a, b: a + b, [np.random.choice(alphabet) for i in range(16)])\n",
    "print(f\"AES initialization vector: {aes_initialization_vector}\")"
   ]
  },
  {
   "cell_type": "code",
   "execution_count": 67,
   "metadata": {},
   "outputs": [
    {
     "name": "stdout",
     "output_type": "stream",
     "text": [
      "Encrypted AES ciphertext: b'8\\x931\\xc4\\xa8\\xa9\\xc4\\x04\\xc5\\xeb\\xd4\\xe7$\\x85\\xf6\\xbe5\\\\X\\xc1f\\x00|\\xa4\\xc5\\xafz/ZM\\x8bAH;\\xec x\\x83\\x97\\x9e\\xb7-\\x90)\\x13\\x19ypNM#\\x84\\xeb@\\x97T\\xb4\\x18\\xf5\\xc4\\xe6\\x0f\\xc9\\xdd'\n"
     ]
    }
   ],
   "source": [
    "# The encryptor is setup using the key & CBC. In both cases we need to convert the string (utf-8) into bytes\n",
    "sender_aes_cipher = Cipher(algorithms.AES(bytes(aes_key, 'utf-8')), modes.CBC(bytes(aes_initialization_vector, 'utf-8')))\n",
    "aes_encryptor = sender_aes_cipher.encryptor()\n",
    "\n",
    "# update can add text to encypt in chunks, and then finalize is needed to complete the encryption process\n",
    "aes_ciphertext = aes_encryptor.update(bytes(plaintext, 'utf-8')) + aes_encryptor.finalize()\n",
    "\n",
    "# Note the output is a string of bytes\n",
    "print(f\"Encrypted AES ciphertext: {aes_ciphertext}\")"
   ]
  },
  {
   "cell_type": "code",
   "execution_count": 68,
   "metadata": {},
   "outputs": [
    {
     "name": "stdout",
     "output_type": "stream",
     "text": [
      "Decrypted AES plaintext: this is a strict top secret message for intended recipients only\n"
     ]
    }
   ],
   "source": [
    "# Similar setup of AES to what we did for encryption, but this time, for decryption\n",
    "receiver_aes_cipher = Cipher(algorithms.AES(bytes(aes_key, 'utf-8')), modes.CBC(bytes(aes_initialization_vector, 'utf-8')))\n",
    "aes_decryptor = receiver_aes_cipher.decryptor()\n",
    "\n",
    "# Do the decryption\n",
    "aes_plaintext_bytes = aes_decryptor.update(aes_ciphertext) + aes_decryptor.finalize()\n",
    "\n",
    "# convert back to a character string (we assume utf-8)\n",
    "aes_plaintext = aes_plaintext_bytes.decode('utf-8')\n",
    "\n",
    "print(f\"Decrypted AES plaintext: {aes_plaintext}\")"
   ]
  },
  {
   "cell_type": "code",
   "execution_count": null,
   "metadata": {},
   "outputs": [],
   "source": []
  },
  {
   "cell_type": "markdown",
   "metadata": {},
   "source": [
    "# Quantum Safe Cryptography\n",
    "- Learning with error\n",
    "Illustration of LWE encryption in Python\n",
    "The following simple example shows the use of LWE for encryption and decryption. Bob will send an encrypted message to Alice.\n",
    "\n",
    "First, Alice and Bob agree on the problem parameters. These are explained in detail in the maths section above, but in summary we require \n",
    "n\n",
    ",\n",
    "q\n",
    ",\n",
    "N\n",
    ",\n",
    "χ\n",
    "n,q,N,χ.\n",
    "\n",
    "We start with some of the basic parameters\n",
    "- N represents the number of samples\n",
    "- q is a modulus\n",
    "- n is known as the security parameter, or vector dimension.\n",
    "\n",
    "These parameters are all public information in principle."
   ]
  },
  {
   "cell_type": "code",
   "execution_count": 69,
   "metadata": {},
   "outputs": [
    {
     "name": "stdout",
     "output_type": "stream",
     "text": [
      "n=8,q=127,N=42,sigma=1.0\n"
     ]
    }
   ],
   "source": [
    "import numpy as np\n",
    "from matplotlib import pyplot as plt\n",
    "n=8\n",
    "q=127\n",
    "N=int(1.1*n*np.log(q))\n",
    "sigma=1.0\n",
    "print(f\"n={n},q={q},N={N},sigma={sigma}\")"
   ]
  },
  {
   "cell_type": "markdown",
   "metadata": {},
   "source": [
    "We also need a way of introducing errors\n",
    "\n",
    "Here χ represent the errors we want to introduce - we use a discrete Gaussian distribution on \n",
    "Zq ​characterized by mean 0 and standard deviation σ."
   ]
  },
  {
   "cell_type": "code",
   "execution_count": 70,
   "metadata": {},
   "outputs": [
    {
     "name": "stdout",
     "output_type": "stream",
     "text": [
      "chi =  3\n",
      "chi =  5\n",
      "chi =  1\n",
      "chi =  0\n",
      "chi =  998\n",
      "chi =  1\n",
      "chi =  0\n",
      "chi =  993\n",
      "chi =  992\n",
      "chi =  998\n"
     ]
    }
   ],
   "source": [
    "def chi(stdev, modulus):\n",
    "    return round((np.random.randn() * stdev**2))%modulus\n",
    "\n",
    "# print some examples\n",
    "sd=2\n",
    "m=1000\n",
    "for x in range(10):\n",
    "  print(\"chi = \",chi(sd,m))"
   ]
  },
  {
   "cell_type": "code",
   "execution_count": 71,
   "metadata": {},
   "outputs": [
    {
     "name": "stdout",
     "output_type": "stream",
     "text": [
      "Alice's private key: [ 25   5 104  30  32   4 106  22]\n"
     ]
    }
   ],
   "source": [
    "#Alice's private key\n",
    "alice_private_key = np.random.randint(0, high=q, size=n)\n",
    "print(f\"Alice's private key: {alice_private_key}\")"
   ]
  },
  {
   "cell_type": "code",
   "execution_count": 72,
   "metadata": {},
   "outputs": [
    {
     "name": "stdout",
     "output_type": "stream",
     "text": [
      "Alice's public key: [(array([ 20,  88,  65,  60, 109,  26,  81,  81]), 93), (array([104,  63,  41,  81,  81,  21,  13, 102]), 31), (array([ 11,  67,  83, 123, 103,  53,  45,  15]), 75), (array([ 83,  23,  31,  28,  52, 126,  61,  56]), 118), (array([107, 110,  58, 112,  38,  85,   6,  43]), 8), (array([108, 108,  33,  38,  63,  65, 122,  86]), 19), (array([ 79,  15,  50,  98,  89,  76, 100,  92]), 60), (array([ 23,  88, 112,  36,   0,   3,  63,  64]), 123), (array([ 86, 103,  62, 103,  98, 102, 121,  42]), 31), (array([ 35,  24,  82,  66,  69, 107,  96, 125]), 14), (array([76, 11,  4, 56, 27, 99, 21, 41]), 57), (array([ 25,  34, 107,  56, 106,  37,  45,   8]), 119), (array([113, 114, 100,  42,  19,  75,  18,  92]), 83), (array([ 46,  74,  57, 123,  53, 110,  13,  54]), 92), (array([ 54,  60,   6,  98,  40, 124,  97,  29]), 3), (array([47, 19, 13, 99, 64, 40, 18, 91]), 27), (array([126, 120,  32,   8, 120,  87, 103,  67]), 22), (array([ 28, 112,  74,  77, 119,  23,  85,  38]), 121), (array([ 10,   1,  74,  96,  63,  16, 121,   0]), 82), (array([ 40,  56,  76,  57, 104,  89,   8,  43]), 117), (array([  5,  14, 110,  64,  16,  24,  59,  92]), 90), (array([ 28,   8,  16,  16,  51,  17,  72, 102]), 109), (array([ 99,  68, 114, 102,  80,  35,  96, 125]), 82), (array([111,  53,  32,  93,  56,  67,  30, 122]), 63), (array([ 23,   9, 125,  30,  90,  58,  85,  37]), 22), (array([  4,   6, 118,  37, 109,  46,  72,  75]), 49), (array([ 63,  11,  85,  17,  46, 120,  95,  31]), 61), (array([ 50,  83,   1,   0,  57, 109,  85,   4]), 44), (array([75, 57, 27, 96, 89, 43, 22, 95]), 49), (array([ 90,  75, 106,  91,  60,  63,  29,  66]), 89), (array([111,  94,  65,   0,  27,  87,  67,  45]), 5), (array([113,  53, 103, 116, 106,  26,  44,   8]), 90), (array([ 42,  61,  60,  26, 122,  58,  26,  45]), 1), (array([21, 27, 16, 82, 93, 82, 93,  6]), 42), (array([43, 92, 68, 43, 39, 37, 76, 88]), 76), (array([ 17, 109,  71, 119,  44,  75,  54,  61]), 124), (array([ 54,  84, 114,  83,  27,  25,  94,  11]), 106), (array([ 19,  54,  98,  27,  49,   7,  28, 105]), 80), (array([ 79, 112,  52,  93, 124,  87,  13, 111]), 74), (array([119,  83,  42, 112,   1,   6,  67, 124]), 48), (array([ 80, 112, 108, 102,  88,  13,  29,  25]), 104), (array([  0,  10,  80,  85,  42,  49,  46, 116]), 73)]\n"
     ]
    }
   ],
   "source": [
    "#Alice's Public Key\n",
    "alice_public_key = []\n",
    "\n",
    "# N is the number of values we want in the key\n",
    "for i in range(N):\n",
    "    # Get n random values between 0 and <q\n",
    "    a = np.random.randint(0, high=q, size=n)\n",
    "    # get an error to introduce\n",
    "    epsilon = chi(sigma, q)\n",
    "    #  calculate dot product (ie like array multiplication)\n",
    "    b = (np.dot(a, alice_private_key) + epsilon) % q\n",
    "    # value to be added to the key -\n",
    "    sample = (a, b)\n",
    "    alice_public_key.append(sample)\n",
    "    \n",
    "print(f\"Alice's public key: {alice_public_key}\")"
   ]
  },
  {
   "cell_type": "code",
   "execution_count": 73,
   "metadata": {},
   "outputs": [
    {
     "name": "stdout",
     "output_type": "stream",
     "text": [
      "Bob's message bit=1\n"
     ]
    }
   ],
   "source": [
    "#Encryption\n",
    "bob_message_bit = 1\n",
    "print(f\"Bob's message bit={bob_message_bit}\")"
   ]
  },
  {
   "cell_type": "code",
   "execution_count": 74,
   "metadata": {},
   "outputs": [
    {
     "name": "stdout",
     "output_type": "stream",
     "text": [
      "[1 0 1 1 0 1 0 1 1 1 1 1 1 0 1 1 0 1 0 0 1 0 0 1 0 0 0 1 1 0 1 1 0 0 0 1 0\n",
      " 1 0 0 0 0]\n"
     ]
    }
   ],
   "source": [
    "# a list of N values between 0 and <2 - ie 0 or 1\n",
    "r = np.random.randint(0, 2, N)\n",
    "print(r)"
   ]
  },
  {
   "cell_type": "code",
   "execution_count": 75,
   "metadata": {},
   "outputs": [
    {
     "name": "stdout",
     "output_type": "stream",
     "text": [
      "ciphertext is: ([67, 98, 9, 0, 43, 48, 119, 30], 94)\n"
     ]
    }
   ],
   "source": [
    "sum_ai=np.zeros(n, dtype=int)\n",
    "sum_bi=0\n",
    "\n",
    "for i in range(N):\n",
    "    sum_ai = sum_ai + r[i] * alice_public_key[i][0]\n",
    "    sum_bi = sum_bi + r[i] * alice_public_key[i][1]\n",
    "sum_ai = [ x % q for x in sum_ai ]\n",
    "# sum_bi = sum_bi \n",
    "ciphertext = (sum_ai, (bob_message_bit*int(np.floor(q/2))+sum_bi)%q)\n",
    "print(f\"ciphertext is: {ciphertext}\")"
   ]
  },
  {
   "cell_type": "code",
   "execution_count": 76,
   "metadata": {},
   "outputs": [
    {
     "name": "stdout",
     "output_type": "stream",
     "text": [
      "original message bit=1, decrypted message bit=1\n"
     ]
    }
   ],
   "source": [
    "#Decryption\n",
    "adots = np.dot(ciphertext[0], alice_private_key) % q\n",
    "b_adots = (ciphertext[1] - adots) % q\n",
    "\n",
    "decrypted_message_bit = round((2*b_adots)/q) % 2\n",
    "\n",
    "print(f\"original message bit={bob_message_bit}, decrypted message bit={decrypted_message_bit}\")\n",
    "\n",
    "assert bob_message_bit == decrypted_message_bit"
   ]
  },
  {
   "cell_type": "code",
   "execution_count": 77,
   "metadata": {},
   "outputs": [
    {
     "name": "stdout",
     "output_type": "stream",
     "text": [
      "Bob's message bits are : [1 0 0 0 0 1 1 1 0 1 1 0 1 1 1 1]\n",
      "Decrypted message bits = [1 0 0 0 0 1 1 1 0 1 1 0 1 1 1 1]\n"
     ]
    }
   ],
   "source": [
    "bob_message_bits = np.random.randint(0, 2, 16)\n",
    "print(f\"Bob's message bits are : {bob_message_bits}\")\n",
    "decrypted_bits = []\n",
    "\n",
    "for ib in range(len(bob_message_bits)):\n",
    "    bob_message_bit = bob_message_bits[ib]\n",
    "\n",
    "    r = np.random.randint(0, 2, N)\n",
    "    \n",
    "    sum_ai=np.zeros(n, dtype=int)\n",
    "    sum_bi=0\n",
    "    for i in range(N):\n",
    "        sum_ai = sum_ai + r[i] * alice_public_key[i][0]\n",
    "        sum_bi = sum_bi + r[i] * alice_public_key[i][1]\n",
    "    sum_ai = [ x % q for x in sum_ai ]\n",
    "\n",
    "    ciphertext = (sum_ai, (bob_message_bit*int(np.floor(q/2))+sum_bi)%q)\n",
    "\n",
    "    adots = np.dot(ciphertext[0], alice_private_key) % q\n",
    "    b_adots = (ciphertext[1] - adots) % q\n",
    "\n",
    "    decrypted_message_bit = round((2*b_adots)/q) % 2\n",
    "    assert decrypted_message_bit == bob_message_bit\n",
    "\n",
    "    decrypted_bits.append(decrypted_message_bit)\n",
    "    \n",
    "print(f\"Decrypted message bits = {np.array(decrypted_bits)}\")"
   ]
  },
  {
   "cell_type": "code",
   "execution_count": 79,
   "metadata": {},
   "outputs": [],
   "source": [
    "import warnings\n",
    "warnings.filterwarnings('ignore')\n",
    "import oqs\n",
    "from pprint import pprint"
   ]
  },
  {
   "cell_type": "code",
   "execution_count": 82,
   "metadata": {},
   "outputs": [
    {
     "ename": "AttributeError",
     "evalue": "module 'oqs' has no attribute 'get_enabled_kem_mechanisms'",
     "output_type": "error",
     "traceback": [
      "\u001b[0;31m---------------------------------------------------------------------------\u001b[0m",
      "\u001b[0;31mAttributeError\u001b[0m                            Traceback (most recent call last)",
      "Cell \u001b[0;32mIn[82], line 1\u001b[0m\n\u001b[0;32m----> 1\u001b[0m kems \u001b[38;5;241m=\u001b[39m oqs\u001b[38;5;241m.\u001b[39mget_enabled_kem_mechanisms()\n\u001b[1;32m      2\u001b[0m \u001b[38;5;28mprint\u001b[39m(kems, compact\u001b[38;5;241m=\u001b[39m\u001b[38;5;28;01mTrue\u001b[39;00m)\n",
      "\u001b[0;31mAttributeError\u001b[0m: module 'oqs' has no attribute 'get_enabled_kem_mechanisms'"
     ]
    }
   ],
   "source": [
    "kems = oqs.\n",
    "kems = oqs.get_enabled_kem_mechanisms()\n",
    "print(kems, compact=True)"
   ]
  },
  {
   "cell_type": "code",
   "execution_count": null,
   "metadata": {},
   "outputs": [],
   "source": []
  }
 ],
 "metadata": {
  "kernelspec": {
   "display_name": "base",
   "language": "python",
   "name": "python3"
  },
  "language_info": {
   "codemirror_mode": {
    "name": "ipython",
    "version": 3
   },
   "file_extension": ".py",
   "mimetype": "text/x-python",
   "name": "python",
   "nbconvert_exporter": "python",
   "pygments_lexer": "ipython3",
   "version": "3.12.4"
  }
 },
 "nbformat": 4,
 "nbformat_minor": 2
}
